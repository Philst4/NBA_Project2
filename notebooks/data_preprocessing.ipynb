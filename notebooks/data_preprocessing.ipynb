{
 "cells": [
  {
   "cell_type": "code",
   "execution_count": 17,
   "metadata": {},
   "outputs": [],
   "source": [
    "import pandas as pd\n",
    "from sklearn.preprocessing import MinMaxScaler"
   ]
  },
  {
   "cell_type": "markdown",
   "metadata": {},
   "source": [
    "Experimenting with data preprocessing steps. "
   ]
  },
  {
   "cell_type": "code",
   "execution_count": 13,
   "metadata": {},
   "outputs": [
    {
     "name": "stdout",
     "output_type": "stream",
     "text": [
      "(53046, 161)\n"
     ]
    },
    {
     "data": {
      "text/html": [
       "<div>\n",
       "<style scoped>\n",
       "    .dataframe tbody tr th:only-of-type {\n",
       "        vertical-align: middle;\n",
       "    }\n",
       "\n",
       "    .dataframe tbody tr th {\n",
       "        vertical-align: top;\n",
       "    }\n",
       "\n",
       "    .dataframe thead th {\n",
       "        text-align: right;\n",
       "    }\n",
       "</style>\n",
       "<table border=\"1\" class=\"dataframe\">\n",
       "  <thead>\n",
       "    <tr style=\"text-align: right;\">\n",
       "      <th></th>\n",
       "      <th>GAME_ID</th>\n",
       "      <th>TEAM_ID_A</th>\n",
       "      <th>GAME_DATE_EST</th>\n",
       "      <th>SEASON</th>\n",
       "      <th>TEAM_WINS_A</th>\n",
       "      <th>PTS_for_A</th>\n",
       "      <th>PTS_against_A</th>\n",
       "      <th>FG_PCT_for_A</th>\n",
       "      <th>FG_PCT_against_A</th>\n",
       "      <th>FG3_PCT_for_A</th>\n",
       "      <th>...</th>\n",
       "      <th>PTS_against_prev_20_B</th>\n",
       "      <th>FG_PCT_for_prev_20_B</th>\n",
       "      <th>FG_PCT_against_prev_20_B</th>\n",
       "      <th>FG3_PCT_for_prev_20_B</th>\n",
       "      <th>FG3_PCT_against_prev_20_B</th>\n",
       "      <th>AST_for_prev_20_B</th>\n",
       "      <th>AST_against_prev_20_B</th>\n",
       "      <th>REB_for_prev_20_B</th>\n",
       "      <th>REB_against_prev_20_B</th>\n",
       "      <th>IS_HOME_B</th>\n",
       "    </tr>\n",
       "  </thead>\n",
       "  <tbody>\n",
       "    <tr>\n",
       "      <th>0</th>\n",
       "      <td>20600002</td>\n",
       "      <td>1610612762</td>\n",
       "      <td>2003-10-05</td>\n",
       "      <td>2003</td>\n",
       "      <td>1</td>\n",
       "      <td>90.0</td>\n",
       "      <td>85.0</td>\n",
       "      <td>0.457</td>\n",
       "      <td>0.447</td>\n",
       "      <td>0.143</td>\n",
       "      <td>...</td>\n",
       "      <td>NaN</td>\n",
       "      <td>NaN</td>\n",
       "      <td>NaN</td>\n",
       "      <td>NaN</td>\n",
       "      <td>NaN</td>\n",
       "      <td>NaN</td>\n",
       "      <td>NaN</td>\n",
       "      <td>NaN</td>\n",
       "      <td>NaN</td>\n",
       "      <td>False</td>\n",
       "    </tr>\n",
       "    <tr>\n",
       "      <th>1</th>\n",
       "      <td>20600003</td>\n",
       "      <td>1610612742</td>\n",
       "      <td>2003-10-05</td>\n",
       "      <td>2003</td>\n",
       "      <td>0</td>\n",
       "      <td>85.0</td>\n",
       "      <td>90.0</td>\n",
       "      <td>0.447</td>\n",
       "      <td>0.457</td>\n",
       "      <td>0.250</td>\n",
       "      <td>...</td>\n",
       "      <td>NaN</td>\n",
       "      <td>NaN</td>\n",
       "      <td>NaN</td>\n",
       "      <td>NaN</td>\n",
       "      <td>NaN</td>\n",
       "      <td>NaN</td>\n",
       "      <td>NaN</td>\n",
       "      <td>NaN</td>\n",
       "      <td>NaN</td>\n",
       "      <td>True</td>\n",
       "    </tr>\n",
       "    <tr>\n",
       "      <th>2</th>\n",
       "      <td>20600004</td>\n",
       "      <td>1610612763</td>\n",
       "      <td>2003-10-06</td>\n",
       "      <td>2003</td>\n",
       "      <td>1</td>\n",
       "      <td>105.0</td>\n",
       "      <td>94.0</td>\n",
       "      <td>0.494</td>\n",
       "      <td>0.427</td>\n",
       "      <td>0.267</td>\n",
       "      <td>...</td>\n",
       "      <td>NaN</td>\n",
       "      <td>NaN</td>\n",
       "      <td>NaN</td>\n",
       "      <td>NaN</td>\n",
       "      <td>NaN</td>\n",
       "      <td>NaN</td>\n",
       "      <td>NaN</td>\n",
       "      <td>NaN</td>\n",
       "      <td>NaN</td>\n",
       "      <td>False</td>\n",
       "    </tr>\n",
       "    <tr>\n",
       "      <th>3</th>\n",
       "      <td>20600005</td>\n",
       "      <td>1610612749</td>\n",
       "      <td>2003-10-06</td>\n",
       "      <td>2003</td>\n",
       "      <td>0</td>\n",
       "      <td>94.0</td>\n",
       "      <td>105.0</td>\n",
       "      <td>0.427</td>\n",
       "      <td>0.494</td>\n",
       "      <td>0.154</td>\n",
       "      <td>...</td>\n",
       "      <td>NaN</td>\n",
       "      <td>NaN</td>\n",
       "      <td>NaN</td>\n",
       "      <td>NaN</td>\n",
       "      <td>NaN</td>\n",
       "      <td>NaN</td>\n",
       "      <td>NaN</td>\n",
       "      <td>NaN</td>\n",
       "      <td>NaN</td>\n",
       "      <td>True</td>\n",
       "    </tr>\n",
       "    <tr>\n",
       "      <th>4</th>\n",
       "      <td>20600006</td>\n",
       "      <td>1610612765</td>\n",
       "      <td>2003-10-07</td>\n",
       "      <td>2003</td>\n",
       "      <td>0</td>\n",
       "      <td>96.0</td>\n",
       "      <td>100.0</td>\n",
       "      <td>0.391</td>\n",
       "      <td>0.494</td>\n",
       "      <td>0.444</td>\n",
       "      <td>...</td>\n",
       "      <td>NaN</td>\n",
       "      <td>NaN</td>\n",
       "      <td>NaN</td>\n",
       "      <td>NaN</td>\n",
       "      <td>NaN</td>\n",
       "      <td>NaN</td>\n",
       "      <td>NaN</td>\n",
       "      <td>NaN</td>\n",
       "      <td>NaN</td>\n",
       "      <td>False</td>\n",
       "    </tr>\n",
       "  </tbody>\n",
       "</table>\n",
       "<p>5 rows × 161 columns</p>\n",
       "</div>"
      ],
      "text/plain": [
       "    GAME_ID   TEAM_ID_A GAME_DATE_EST  SEASON  TEAM_WINS_A  PTS_for_A  \\\n",
       "0  20600002  1610612762    2003-10-05    2003            1       90.0   \n",
       "1  20600003  1610612742    2003-10-05    2003            0       85.0   \n",
       "2  20600004  1610612763    2003-10-06    2003            1      105.0   \n",
       "3  20600005  1610612749    2003-10-06    2003            0       94.0   \n",
       "4  20600006  1610612765    2003-10-07    2003            0       96.0   \n",
       "\n",
       "   PTS_against_A  FG_PCT_for_A  FG_PCT_against_A  FG3_PCT_for_A  ...  \\\n",
       "0           85.0         0.457             0.447          0.143  ...   \n",
       "1           90.0         0.447             0.457          0.250  ...   \n",
       "2           94.0         0.494             0.427          0.267  ...   \n",
       "3          105.0         0.427             0.494          0.154  ...   \n",
       "4          100.0         0.391             0.494          0.444  ...   \n",
       "\n",
       "   PTS_against_prev_20_B  FG_PCT_for_prev_20_B  FG_PCT_against_prev_20_B  \\\n",
       "0                    NaN                   NaN                       NaN   \n",
       "1                    NaN                   NaN                       NaN   \n",
       "2                    NaN                   NaN                       NaN   \n",
       "3                    NaN                   NaN                       NaN   \n",
       "4                    NaN                   NaN                       NaN   \n",
       "\n",
       "   FG3_PCT_for_prev_20_B  FG3_PCT_against_prev_20_B  AST_for_prev_20_B  \\\n",
       "0                    NaN                        NaN                NaN   \n",
       "1                    NaN                        NaN                NaN   \n",
       "2                    NaN                        NaN                NaN   \n",
       "3                    NaN                        NaN                NaN   \n",
       "4                    NaN                        NaN                NaN   \n",
       "\n",
       "   AST_against_prev_20_B  REB_for_prev_20_B  REB_against_prev_20_B  IS_HOME_B  \n",
       "0                    NaN                NaN                    NaN      False  \n",
       "1                    NaN                NaN                    NaN       True  \n",
       "2                    NaN                NaN                    NaN      False  \n",
       "3                    NaN                NaN                    NaN       True  \n",
       "4                    NaN                NaN                    NaN      False  \n",
       "\n",
       "[5 rows x 161 columns]"
      ]
     },
     "execution_count": 13,
     "metadata": {},
     "output_type": "execute_result"
    }
   ],
   "source": [
    "df = pd.read_csv('../data/processed/total.csv')\n",
    "shape_old = df.shape\n",
    "print(shape_old)\n",
    "df.head()"
   ]
  },
  {
   "cell_type": "markdown",
   "metadata": {},
   "source": [
    "First, want to remove duplicates and missing values."
   ]
  },
  {
   "cell_type": "code",
   "execution_count": 14,
   "metadata": {},
   "outputs": [
    {
     "name": "stdout",
     "output_type": "stream",
     "text": [
      "(52306, 161)\n",
      "(52306, 161)\n"
     ]
    }
   ],
   "source": [
    "df = df.dropna()\n",
    "print(df.shape)\n",
    "df = df.drop_duplicates()\n",
    "shape_new = df.shape\n",
    "print(df.shape)"
   ]
  },
  {
   "cell_type": "markdown",
   "metadata": {},
   "source": [
    "So, appear to be some na values, not many duplicates. Maybe 700 datapoints lost from dropping the na's. Means we following percent of original data:"
   ]
  },
  {
   "cell_type": "code",
   "execution_count": 18,
   "metadata": {},
   "outputs": [
    {
     "data": {
      "text/plain": [
       "1.3950156467971195"
      ]
     },
     "execution_count": 18,
     "metadata": {},
     "output_type": "execute_result"
    }
   ],
   "source": [
    "100 * (shape_old[0] - df.shape[0]) / shape_old[0]"
   ]
  },
  {
   "cell_type": "markdown",
   "metadata": {},
   "source": [
    "Not too bad, maybe worth revisiting later. \n",
    "\n",
    "Moving on, we want to scale our data. This will allow a more robust set of models to easily learn from it. To do this, we must remove date time."
   ]
  },
  {
   "cell_type": "code",
   "execution_count": 24,
   "metadata": {},
   "outputs": [
    {
     "data": {
      "text/plain": [
       "64       2004-10-24\n",
       "65       2004-10-24\n",
       "66       2004-10-24\n",
       "67       2004-10-24\n",
       "68       2004-10-24\n",
       "            ...    \n",
       "53041    2022-04-13\n",
       "53042    2022-04-15\n",
       "53043    2022-04-15\n",
       "53044    2022-04-15\n",
       "53045    2022-04-15\n",
       "Name: GAME_DATE_EST, Length: 52306, dtype: object"
      ]
     },
     "execution_count": 24,
     "metadata": {},
     "output_type": "execute_result"
    }
   ],
   "source": [
    "df['GAME_DATE_EST']"
   ]
  },
  {
   "cell_type": "code",
   "execution_count": 26,
   "metadata": {},
   "outputs": [
    {
     "data": {
      "text/plain": [
       "array([[0.00000000e+00, 9.65517238e-01, 5.26315789e-02, ...,\n",
       "        4.52380952e-01, 2.19512195e-01, 0.00000000e+00],\n",
       "       [1.19903701e-08, 8.62068959e-01, 5.26315789e-02, ...,\n",
       "        2.38095238e-01, 2.19512195e-01, 1.00000000e+00],\n",
       "       [2.39807403e-08, 3.10344823e-01, 5.26315789e-02, ...,\n",
       "        2.85714286e-01, 3.41463415e-01, 0.00000000e+00],\n",
       "       ...,\n",
       "       [9.99999760e-01, 0.00000000e+00, 9.47368421e-01, ...,\n",
       "        4.44047619e-01, 4.48780488e-01, 1.00000000e+00],\n",
       "       [9.99999988e-01, 3.10344823e-01, 9.47368421e-01, ...,\n",
       "        4.97619048e-01, 3.86585366e-01, 0.00000000e+00],\n",
       "       [1.00000000e+00, 1.03448272e-01, 9.47368421e-01, ...,\n",
       "        4.57142857e-01, 5.47560976e-01, 1.00000000e+00]])"
      ]
     },
     "execution_count": 26,
     "metadata": {},
     "output_type": "execute_result"
    }
   ],
   "source": [
    "scaler = MinMaxScaler()\n",
    "df_scaled = scaler.fit_transform(df.drop('GAME_DATE_EST', axis=1))\n",
    "df_scaled"
   ]
  },
  {
   "cell_type": "markdown",
   "metadata": {},
   "source": [
    "Let's check if our model performs on this data. "
   ]
  }
 ],
 "metadata": {
  "kernelspec": {
   "display_name": "my_env",
   "language": "python",
   "name": "python3"
  },
  "language_info": {
   "codemirror_mode": {
    "name": "ipython",
    "version": 3
   },
   "file_extension": ".py",
   "mimetype": "text/x-python",
   "name": "python",
   "nbconvert_exporter": "python",
   "pygments_lexer": "ipython3",
   "version": "3.8.18"
  }
 },
 "nbformat": 4,
 "nbformat_minor": 2
}
